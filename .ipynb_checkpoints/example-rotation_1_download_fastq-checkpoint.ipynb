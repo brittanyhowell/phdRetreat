{
 "cells": [
  {
   "cell_type": "markdown",
   "metadata": {},
   "source": [
    "# Downloading data from Bonnal et. al.\n",
    "\n",
    "### Purpose of the script\n",
    "I need to download 63 `fastq` datasets. I don't want to download them in a browser.\n",
    "1. I don't have the storage on my laptop\n",
    "2. I need them on the FARM\n",
    "3. Downloading from a browser is not recommended\n",
    "4. I don't want to click a button 63 times\n",
    "\n",
    "\n",
    "### Starting point\n",
    "There is a file provided which contains the links to all samples. It looks like this: (this is a single line)"
   ]
  },
  {
   "cell_type": "code",
   "execution_count": null,
   "metadata": {
    "collapsed": true
   },
   "outputs": [],
   "source": [
    "SQ_0047\tERS403382\tcell\tIstituto Nazionale Genetica Molecolare Romeo ed Enrica Invernizzi\t\n",
    "Homo sapiens\tfresh specimen\twild type genotype\tblood\tprimary cell\tdifferentiated\t\n",
    "CD4 Th1\tCD4+ CXCR3+\tP-MTAB-37618\tP-MTAB-37619\tP-MTAB-37620\tSQ_0047\tpolyA RNA\t\n",
    "PAIRED\tTRANSCRIPTOMIC\tncRNA-Seq\tRANDOM\t364\t5'-3'-3'-5'\tP-MTAB-37621\t\n",
    "Istituto Nazionale Genetica Molecolare Romeo ed Enrica Invernizzi, Milan, Italy\tSQ_0047\tsequencing assay\t\n",
    "ERX397847\tSQ_0047_R1.fastq.gz\tSQ_0047_R1.fastq.gz\tERR431577\t\n",
    "ftp://ftp.sra.ebi.ac.uk/vol1/fastq/ERR431/ERR431577/ERR431577_1.fastq.gz\t\n",
    "    1938ff117e3b4c01435d73b17c1aa957\t102\t101\tCD4 Th1"
   ]
  },
  {
   "cell_type": "markdown",
   "metadata": {},
   "source": [
    "It's as easy as writing a script to sequentially (or parallell-y) use `curl` to download the data and put it in the right place. \n",
    "\n",
    "Thing is. I'm already tired of looking at all of that junk. I'm going to make it a lot smaller to play with it\n",
    "\n",
    "`cat E-MTAB-2319.sdrf.txt| sed 's/ /_/g' | awk '{print $31 \"\\t\" $11 \"\\t\" $12 \"\\t\" $29 \"\\t\" $32} > downLoadLinks.txt`\n",
    "\n",
    "That is way better. Now the file looks like this:\n",
    " "
   ]
  },
  {
   "cell_type": "code",
   "execution_count": null,
   "metadata": {
    "collapsed": true
   },
   "outputs": [],
   "source": [
    "ERR431622\tCD4_Th1 \tCD4+_CXCR3+\tSQ_0007_R1.fastq.gz \tftp://ftp.sra.ebi.ac.uk/vol1/fastq/ERR431/ERR431622/ERR431622_1.fastq.gz\n",
    "ERR431597\tCD4_Th17\tCD4+_CCR6+_CD161+_CXCR3        -\tSQ_0011_R1.fastq.gz\tftp://ftp.sra.ebi.ac.uk/vol1/fastq/ERR431/ERR431597/ERR431597_1.fastq.gz"
   ]
  },
  {
   "cell_type": "markdown",
   "metadata": {},
   "source": [
    "### File storage\n",
    "My files are located on the farm in `/lustre/scratch117/cellgen/teamtrynka/Brie`. I am going to create a folder called `data/bonnal` to store the reads in there. \n",
    "\n",
    "## curl\n",
    "I like curl. I can easily give the file a name and fill in the `url`. I'd need to use a loop to feed the required name and `url`. But that's easy enough\n",
    "The curl command would go like this:"
   ]
  },
  {
   "cell_type": "code",
   "execution_count": null,
   "metadata": {
    "collapsed": true
   },
   "outputs": [],
   "source": [
    "curl -o <filename> <ftp link>"
   ]
  },
  {
   "cell_type": "markdown",
   "metadata": {},
   "source": [
    "##### Loop though\n",
    "How do I get the computer to read through a line of the table, and feed one column to the filename and one to the ftp. hm. \n",
    "\n",
    "Ah yes. `while` loops. \n",
    "\n",
    "### `while` loops\n",
    "Reads through a file, with the use of `read` you can easily assign columns letters, and then use those columns to do what what you want.\n",
    "\n",
    "I made a tiny file:\n",
    "`head -n5 downLoadLinks.txt | awk '{print $1 \"\\t\" $2 \"\\t\" $5}' > shortTable.txt` which produced this: "
   ]
  },
  {
   "cell_type": "code",
   "execution_count": null,
   "metadata": {
    "collapsed": true
   },
   "outputs": [],
   "source": [
    "Comment[ENA_RUN]        Characteristics[cell_type]      Comment[FASTQ_URI]\n",
    "ERR431622\tCD4_Th1     ftp://ftp.sra.ebi.ac.uk/vol1/fastq/ERR431/ERR431622/ERR431622_1.fastq.gz\n",
    "ERR431597\tCD4_Th1     ftp://ftp.sra.ebi.ac.uk/vol1/fastq/ERR431/ERR431597/ERR431597_1.fastq.gz\n",
    "ERR431628\tCD4_Th2     ftp://ftp.sra.ebi.ac.uk/vol1/fastq/ERR431/ERR431628/ERR431628_1.fastq.gz\n",
    "ERR431579\tCD4_Th2     ftp://ftp.sra.ebi.ac.uk/vol1/fastq/ERR431/ERR431579/ERR431579_1.fastq.gz"
   ]
  },
  {
   "cell_type": "markdown",
   "metadata": {},
   "source": [
    "This code will happily read the files: \n"
   ]
  },
  {
   "cell_type": "code",
   "execution_count": null,
   "metadata": {
    "collapsed": true
   },
   "outputs": [],
   "source": [
    "#!/bin/bash\n",
    "\n",
    "cd /Users/bh10/Documents/Rotation1/Data/RNASeq\n",
    "while read -r a b c; do \n",
    "filename=$b\"_\"$a\n",
    "\n",
    "echo Filename: ${filename}, linke:$c \n",
    "done < shortTable.txt\n",
    "\n",
    "# Resulting in this: \n",
    "Filename: Characteristics[cell_type]_Comment[ENA_RUN], linke:Comment[FASTQ_URI]\n",
    "Filename: CD4_Th1_ERR431622, linke:ftp://ftp.sra.ebi.ac.uk/vol1/fastq/ERR431/ERR431622/ERR431622_1.fastq.gz\n",
    "Filename: CD4_Th17_ERR431597, linke:ftp://ftp.sra.ebi.ac.uk/vol1/fastq/ERR431/ERR431597/ERR431597_1.fastq.gz\n",
    "Filename: CD4_Th2_ERR431628, linke:ftp://ftp.sra.ebi.ac.uk/vol1/fastq/ERR431/ERR431628/ERR431628_1.fastq.gz\n",
    "Filename: CD4_Th2_ERR431579, linke:ftp://ftp.sra.ebi.ac.uk/vol1/fastq/ERR431/ERR431579/ERR431579_1.fastq.gz"
   ]
  },
  {
   "cell_type": "markdown",
   "metadata": {},
   "source": [
    "Should probably remove that top line though..\n",
    "\n",
    "## Translating code back to the original file\n",
    "The columns containing the information I need are: 31, 11 and 32. Let's just check:"
   ]
  },
  {
   "cell_type": "code",
   "execution_count": null,
   "metadata": {
    "collapsed": true
   },
   "outputs": [],
   "source": [
    "head E-MTAB-2319.sdrf.txt  | tail -n +2 | sed 's/ /_/g' | awk '{print $31 \"\\t\" $11 \"\\t\" $32}'\n",
    "\n",
    "## PRODUCES: \n",
    "ERR431622\tCD4_Th1 \tftp://ftp.sra.ebi.ac.uk/vol1/fastq/ERR431/ERR431622/ERR431622_1.fastq.gz\n",
    "ERR431597\tCD4_Th17\tftp://ftp.sra.ebi.ac.uk/vol1/fastq/ERR431/ERR431597/ERR431597_1.fastq.gz\n",
    "ERR431628\tCD4_Th2 \tftp://ftp.sra.ebi.ac.uk/vol1/fastq/ERR431/ERR431628/ERR431628_1.fastq.gz"
   ]
  },
  {
   "cell_type": "markdown",
   "metadata": {},
   "source": [
    "Note I included a `tail` command, which removes the first line. But yes it works. So I can now write the proper `while` loop.\n",
    "\n",
    "## Writing proper loop\n",
    "Okay so note that the numbers go to 32 in the colums. There is no way I am going to write a 32 character list of characters just so I can choose the wrong one. I am going to include a line in the script that makes a three column file first, then use that file to pull columns a, b and c. \n",
    "\n",
    "### Minor thing\n",
    "So something important is specifying R1 or R2, which this code does not do. The but that makes it unique I thought was that E number, but I can also use the S number in column 29 (which contains the read number too) and that's allg."
   ]
  },
  {
   "cell_type": "code",
   "execution_count": null,
   "metadata": {
    "collapsed": true
   },
   "outputs": [],
   "source": [
    "## New output: \n",
    "Filename: CD4_Treg_SQ_0023_R1.fastq.gz, linke:ftp://ftp.sra.ebi.ac.uk/vol1/fastq/ERR431/ERR431609/ERR431609_1.fastq.gz\n",
    "Filename: CD4_Th1_SQ_0046_R1.fastq.gz, linke:ftp://ftp.sra.ebi.ac.uk/vol1/fastq/ERR431/ERR431584/ERR431584_1.fastq.gz\n",
    "Filename: CD4_Th1_SQ_0047_R1.fastq.gz, linke:ftp://ftp.sra.ebi.ac.uk/vol1/fastq/ERR431/ERR431577/ERR431577_1.fastq.gz"
   ]
  },
  {
   "cell_type": "markdown",
   "metadata": {},
   "source": [
    "Sweet. \n",
    "\n",
    "### Full code"
   ]
  },
  {
   "cell_type": "code",
   "execution_count": null,
   "metadata": {
    "collapsed": true
   },
   "outputs": [],
   "source": [
    "#!/bin/bash\n",
    "\n",
    "dataTable=\"E-MTAB-2319.sdrf.txt\"\n",
    "tempFile=\"tempTinyDownloadFile.txt\"\n",
    "\n",
    "cd /Users/bh10/Documents/Rotation1/Data/RNASeq\n",
    "\n",
    "\n",
    "cat ${dataTable} | tail -n +2 | sed 's/ /_/g' | awk '{print $11 \"\\t\" $29 \"\\t\" $32}' > ${tempFile}\n",
    "\n",
    "while read -r a b c; do \n",
    "filename=$a\"_\"$b\n",
    "\n",
    "echo Filename: ${filename}, \"link\":$c  >> testereno.txt\n",
    "done < ${tempFile}\n",
    "\n",
    "echo \"fin\""
   ]
  },
  {
   "cell_type": "markdown",
   "metadata": {},
   "source": [
    "## Decision time\n",
    "\n",
    "When I run this on the FARM, do I want to do it all at once, or sequentially. \n",
    "I think, I shouldn't call 126 jobs to the FARM yet. \n",
    "I don't want to make anyone mad at me. \n",
    "I might split them into a few batches. And do it that way. \n",
    "I will review how to submit as an array on a day where I can submit before 4:30pm.\n",
    "\n",
    "Okay batches.\n",
    "\n",
    "### Editing the code for batches. \n",
    "\n",
    "Because I want to split it. I have to remove that tail command, or I will lose random lines.\n",
    "\n",
    "I divided the 126 read files into 6 groups of 21. `batchA.txt -> batchF.txt` \n",
    "\n",
    "The only two variables are then the data table and the temp table: \n"
   ]
  },
  {
   "cell_type": "code",
   "execution_count": null,
   "metadata": {
    "collapsed": true
   },
   "outputs": [],
   "source": [
    "#!/bin/bash\n",
    "\n",
    "dataTable=\"batchA.txt\"\n",
    "tempFile=\"tempA.txt\"\n",
    "\n",
    "cd /Users/bh10/Documents/Rotation1/Data/RNASeq\n",
    "\n",
    "cat ${dataTable} |  sed 's/ /_/g' | awk '{print $11 \"\\t\" $29 \"\\t\" $32}' > ${tempFile}\n",
    "\n",
    "while read -r a b c; do \n",
    "filename=$a\"_\"$b\n",
    "\n",
    "echo curl -o \"./${filename}\" $c\n",
    "done < ${tempFile}\n",
    "\n",
    "echo \"fin\""
   ]
  },
  {
   "cell_type": "markdown",
   "metadata": {},
   "source": [
    "Now to run on the FARM. \n"
   ]
  }
 ],
 "metadata": {
  "kernelspec": {
   "display_name": "Python 2",
   "language": "python",
   "name": "python2"
  },
  "language_info": {
   "codemirror_mode": {
    "name": "ipython",
    "version": 2
   },
   "file_extension": ".py",
   "mimetype": "text/x-python",
   "name": "python",
   "nbconvert_exporter": "python",
   "pygments_lexer": "ipython2",
   "version": "2.7.13"
  }
 },
 "nbformat": 4,
 "nbformat_minor": 2
}
